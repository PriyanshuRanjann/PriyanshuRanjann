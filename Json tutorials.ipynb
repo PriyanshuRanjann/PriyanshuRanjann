{
  "nbformat": 4,
  "nbformat_minor": 0,
  "metadata": {
    "colab": {
      "name": "Untitled5.ipynb",
      "provenance": [],
      "authorship_tag": "ABX9TyOeBUxeme6dn8iwG4IINRp0",
      "include_colab_link": true
    },
    "kernelspec": {
      "name": "python3",
      "display_name": "Python 3"
    },
    "language_info": {
      "name": "python"
    }
  },
  "cells": [
    {
      "cell_type": "markdown",
      "metadata": {
        "id": "view-in-github",
        "colab_type": "text"
      },
      "source": [
        "<a href=\"https://colab.research.google.com/github/PriyanshuRanjann/PriyanshuRanjann/blob/main/Json%20tutorials.ipynb\" target=\"_parent\"><img src=\"https://colab.research.google.com/assets/colab-badge.svg\" alt=\"Open In Colab\"/></a>"
      ]
    },
    {
      "cell_type": "code",
      "execution_count": 1,
      "metadata": {
        "id": "PtXaGnzkT0Ay"
      },
      "outputs": [],
      "source": [
        "import json\n"
      ]
    },
    {
      "cell_type": "code",
      "source": [
        "json_data='''\n",
        "\n",
        "{\n",
        "  \"params\":\n",
        "  {\n",
        "    \"local_server\":\"True\",\n",
        "    \"local_uri\": \"mysql://root:@localhost/codingthunder\",\n",
        "    \"prod_uri\":\"mysql://root:@localhost/codingthunder\",\n",
        "    \"fb_url\":\"https://facebook.com/codingthunder\",\n",
        "    \"tw_url\":\"https://twitter.com/codingthunder\",\n",
        "    \"gh_url\": \"https://github.com/codingthunder\",\n",
        "    \"blog_name\": \"Coding Thunder\",\n",
        "    \"tag_line\": \"Heaven for programmers\",\n",
        "    \"gmail-user\":\"your-email@gmail.com\",\n",
        "    \"gmail-password\":\"gmailpassword\",\n",
        "    \"about_text\": \"Hi my name is Priyanshu and I am learning data science and I am a good boy\",\n",
        "    \"no_of_posts\": 3,\n",
        "    \"login_image\":\"login.svg\",\n",
        "    \"admin_user\":\"priyanshuuuuu\",\n",
        "    \"admin_password\": \"never_give_up\"\n",
        "    \n",
        "\n",
        "\n",
        "  }\n",
        "\n",
        "}\n",
        "\n",
        "\n",
        "\n",
        "\n",
        "'''"
      ],
      "metadata": {
        "id": "hVAx5qtoU8Qh"
      },
      "execution_count": 17,
      "outputs": []
    },
    {
      "cell_type": "code",
      "source": [
        "x=json.loads(json_data)\n",
        "\n",
        "with open('2.json','w') as F:\n",
        "  json.dump(x,F)"
      ],
      "metadata": {
        "id": "W6bobnqsVLKC"
      },
      "execution_count": 18,
      "outputs": []
    },
    {
      "cell_type": "code",
      "source": [
        "x"
      ],
      "metadata": {
        "colab": {
          "base_uri": "https://localhost:8080/"
        },
        "id": "6nG2sjOlVcBs",
        "outputId": "4eee5c52-fc11-4973-aff6-f004cb9c5fcf"
      },
      "execution_count": 19,
      "outputs": [
        {
          "output_type": "execute_result",
          "data": {
            "text/plain": [
              "{'params': {'about_text': 'Hi my name is Priyanshu and I am learning data science and I am a good boy',\n",
              "  'admin_password': 'never_give_up',\n",
              "  'admin_user': 'priyanshuuuuu',\n",
              "  'blog_name': 'Coding Thunder',\n",
              "  'fb_url': 'https://facebook.com/codingthunder',\n",
              "  'gh_url': 'https://github.com/codingthunder',\n",
              "  'gmail-password': 'gmailpassword',\n",
              "  'gmail-user': 'your-email@gmail.com',\n",
              "  'local_server': 'True',\n",
              "  'local_uri': 'mysql://root:@localhost/codingthunder',\n",
              "  'login_image': 'login.svg',\n",
              "  'no_of_posts': 3,\n",
              "  'prod_uri': 'mysql://root:@localhost/codingthunder',\n",
              "  'tag_line': 'Heaven for programmers',\n",
              "  'tw_url': 'https://twitter.com/codingthunder'}}"
            ]
          },
          "metadata": {},
          "execution_count": 19
        }
      ]
    },
    {
      "cell_type": "code",
      "source": [
        "x['params']"
      ],
      "metadata": {
        "colab": {
          "base_uri": "https://localhost:8080/"
        },
        "id": "SaWfKt4DVeUo",
        "outputId": "8aa631b4-bd06-4e14-f8ae-347386357bea"
      },
      "execution_count": 20,
      "outputs": [
        {
          "output_type": "execute_result",
          "data": {
            "text/plain": [
              "{'about_text': 'Hi my name is Priyanshu and I am learning data science and I am a good boy',\n",
              " 'admin_password': 'never_give_up',\n",
              " 'admin_user': 'priyanshuuuuu',\n",
              " 'blog_name': 'Coding Thunder',\n",
              " 'fb_url': 'https://facebook.com/codingthunder',\n",
              " 'gh_url': 'https://github.com/codingthunder',\n",
              " 'gmail-password': 'gmailpassword',\n",
              " 'gmail-user': 'your-email@gmail.com',\n",
              " 'local_server': 'True',\n",
              " 'local_uri': 'mysql://root:@localhost/codingthunder',\n",
              " 'login_image': 'login.svg',\n",
              " 'no_of_posts': 3,\n",
              " 'prod_uri': 'mysql://root:@localhost/codingthunder',\n",
              " 'tag_line': 'Heaven for programmers',\n",
              " 'tw_url': 'https://twitter.com/codingthunder'}"
            ]
          },
          "metadata": {},
          "execution_count": 20
        }
      ]
    },
    {
      "cell_type": "code",
      "source": [
        ""
      ],
      "metadata": {
        "id": "p_ewdFaQVj9L"
      },
      "execution_count": null,
      "outputs": []
    }
  ]
}